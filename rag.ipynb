{
 "cells": [
  {
   "cell_type": "code",
   "execution_count": 1,
   "id": "1e042238-e00d-4dab-b5a8-09689b58b722",
   "metadata": {},
   "outputs": [
    {
     "data": {
      "text/plain": [
       "True"
      ]
     },
     "execution_count": 1,
     "metadata": {},
     "output_type": "execute_result"
    }
   ],
   "source": [
    "import os\n",
    "\n",
    "from langchain_openai import OpenAIEmbeddings,ChatOpenAI\n",
    "from langchain_community.vectorstores import Chroma\n",
    "from langchain_community.document_loaders import TextLoader\n",
    "from langchain_text_splitters import CharacterTextSplitter\n",
    "from langchain.chains import LLMChain\n",
    "from langchain.prompts import PromptTemplate\n",
    "\n",
    "import chromadb\n",
    "from chromadb.utils import embedding_functions\n",
    "from chromadb import Documents, EmbeddingFunction, Embeddings\n",
    "\n",
    "import numpy as np\n",
    "\n",
    "from IPython.display import Markdown, display\n",
    "import IPython\n",
    "\n",
    "import re\n",
    "\n",
    "import dotenv\n",
    "dotenv.load_dotenv()\n"
   ]
  },
  {
   "cell_type": "markdown",
   "id": "756359bb-2860-4369-995b-c2050bd6dfed",
   "metadata": {},
   "source": [
    "## Datasets Prep"
   ]
  },
  {
   "cell_type": "code",
   "execution_count": 2,
   "id": "fdb713f8-30b8-4a95-8c9d-4af351a0520c",
   "metadata": {},
   "outputs": [
    {
     "name": "stdout",
     "output_type": "stream",
     "text": [
      "CPU times: total: 15.6 ms\n",
      "Wall time: 122 ms\n"
     ]
    }
   ],
   "source": [
    "%%time\n",
    "transcripts_path = \"./datasets/transcripts\"\n",
    "db_path = \"./db\"\n",
    "raw_documents = []\n",
    "files = os.listdir(transcripts_path)\n",
    "for fn in files:\n",
    "    doc = TextLoader(transcripts_path+\"/\"+fn, encoding=\"latin-1\").load()\n",
    "    raw_documents.append(doc[0])\n"
   ]
  },
  {
   "cell_type": "code",
   "execution_count": 3,
   "id": "6733483d-b95c-45f4-afa3-55debcc5a58c",
   "metadata": {},
   "outputs": [
    {
     "name": "stdout",
     "output_type": "stream",
     "text": [
      "CPU times: total: 62.5 ms\n",
      "Wall time: 130 ms\n"
     ]
    }
   ],
   "source": [
    "%%time\n",
    "text_splitter = CharacterTextSplitter(chunk_size=1000, chunk_overlap=350)\n",
    "documents = text_splitter.split_documents(raw_documents)"
   ]
  },
  {
   "cell_type": "code",
   "execution_count": 4,
   "id": "09afcabd-8c45-42a7-9cd4-f846b45ced91",
   "metadata": {},
   "outputs": [
    {
     "name": "stdout",
     "output_type": "stream",
     "text": [
      "CPU times: total: 469 ms\n",
      "Wall time: 763 ms\n"
     ]
    }
   ],
   "source": [
    "%%time\n",
    "vectordb = Chroma(persist_directory=db_path, embedding_function=OpenAIEmbeddings())"
   ]
  },
  {
   "cell_type": "markdown",
   "id": "de0e2679-e5cc-49fa-a52a-00d09bdb8d7f",
   "metadata": {},
   "source": [
    "### Embedding Transcripts\n",
    "> **WARNING:**\n",
    "> Only run if dataset isnt prepared prepared"
   ]
  },
  {
   "cell_type": "code",
   "execution_count": 5,
   "id": "699e3900-93b5-4a45-98e3-51d6e627386a",
   "metadata": {},
   "outputs": [
    {
     "name": "stdout",
     "output_type": "stream",
     "text": [
      "preparing datasets and storing in chroma\n"
     ]
    }
   ],
   "source": [
    "print(\"preparing datasets and storing in chroma\")\n",
    "# uncomment everything below and run\n",
    "\n",
    "\n",
    "# array_split = lambda x, n: [x[i:i+n] for i in range(0,len(x),n)]\n",
    "# batch_size = 200\n",
    "# batches = array_split(documents, batch_size)\n",
    "# blen = len(batches)\n",
    "# mlen = len(documents)\n",
    "# print(blen,mlen)\n",
    "\n",
    "# for i,chunk in enumerate(batches):\n",
    "#     print(f\"{(i*batch_size)}/{mlen} = {100*((i+1)/blen)}%:\")\n",
    "#     vectordb.add_documents(chunk)"
   ]
  },
  {
   "cell_type": "code",
   "execution_count": 6,
   "id": "3927c140-9c8b-4fad-b34f-f82ae8b3d353",
   "metadata": {},
   "outputs": [],
   "source": [
    "# chromaClient = chromadb.PersistentClient(path=db_path)\n",
    "# langchaincol = chromaClient.get_collection(\"langchain\")\n",
    "# chromaClient.delete_collection(\"langchain\") #reset\n",
    "# langchaincol.count()\n",
    "# chromaClient.list_collections()\n"
   ]
  },
  {
   "cell_type": "code",
   "execution_count": 11,
   "id": "9951433c-03f1-490f-8808-ad770f434b3d",
   "metadata": {},
   "outputs": [
    {
     "name": "stdout",
     "output_type": "stream",
     "text": [
      "Ted Mosby, the architect\n",
      "Architect Ted Mosby\n",
      "Ted Mosby profession architect\n",
      "Character Ted Mosby as an architect\n",
      "Ted Mosby job as an architect\n"
     ]
    }
   ],
   "source": [
    "query = \"ted mosby, the architect\"\n",
    "\n",
    "QUERY_PROMPT = PromptTemplate(\n",
    "    input_variables=[\"question\"],\n",
    "    template=\"\"\"You are an AI language model assistant. \n",
    "    Your task is to rephrase the user input such that, it includes maximum of five possible ways it can could be said, to search relevant documents from a vector database. \n",
    "    The databse has many documents which are transcripts from a show named 'How I met your mother'\n",
    "    donot generate prompt or command, just generate query words rephrased properly \n",
    "    split response by comma\n",
    "    i repeat, make sure you split responses by comma \n",
    "    Generate a rephrased response to search in the transcripts to generate best results by matching best documents for user.\n",
    "    User Input Query: {question}\"\"\",\n",
    ")\n",
    "llm = ChatOpenAI(temperature=0)\n",
    "llm_chain = LLMChain(llm=llm, prompt=QUERY_PROMPT)\n",
    "\n",
    "enhanched_query = llm_chain.run(question=query)\n",
    "print(enhanched_query)\n",
    "answers = vectordb.similarity_search(enhanched_query)"
   ]
  },
  {
   "cell_type": "code",
   "execution_count": 12,
   "id": "ac35112c-c16f-480f-bfdf-d07d53ea1f58",
   "metadata": {},
   "outputs": [
    {
     "data": {
      "text/markdown": [
       "<br/>\n",
       "----------'<b>SEASON2 X EPISODE 4</b>'----------\n",
       "\n",
       "</b>"
      ],
      "text/plain": [
       "<IPython.core.display.Markdown object>"
      ]
     },
     "metadata": {},
     "output_type": "display_data"
    },
    {
     "data": {
      "text/markdown": [
       "<b>Barney:</b> That's 'cause you're always like... (Dully) \"Ted Mosby, architect\". If it were me, I'd be like... (Confidently) \"Ted Mosby, architect\". Anything sounds impressive when it's said with the right attitude.<br/><b>Marshall (suavely):</b> Marshall Ericksen. Recently dumped and heading to a lame party. Whoa. Whoa, ladies, please take it easy. There's enough of me for everyone. Oh. Hi. Hello. All right. We're gonna take off..<br/><b>Barney:</b> Wait up, I'll leave with you guys. \"Ted Mosby, architect\". Trust me.<br/>(Barney and marshall leave. Ted starts leaving and suddenly walk to a girl)<br/><b>Ted:</b> Hey, just out of curiosity. If a guy told you he was an architect, what would you think of that?<br/><b>Girl:</b> Are you kidding? Architects are hot. How do you think Mr. Brady scored a babe like Carol?<br/><b>Ted:</b> Solid point. She did have hair of gold.<br/><b>Girl:</b> Yes, she did.<br/><b>Ted:</b> Mm-hmm.<br/>Later, Robin and Lily arrive at MacLaren's.<br/><b>Robin:</b> Hey, Carl, is Ted still here?<br/><b>Carl:</b> No. Hey, Lily. You still single?<br/><b>Lily:</b> Yes."
      ],
      "text/plain": [
       "<IPython.core.display.Markdown object>"
      ]
     },
     "metadata": {},
     "output_type": "display_data"
    },
    {
     "data": {
      "text/markdown": [
       "<b>------------------------------</b>"
      ],
      "text/plain": [
       "<IPython.core.display.Markdown object>"
      ]
     },
     "metadata": {},
     "output_type": "display_data"
    },
    {
     "data": {
      "text/markdown": [
       "<br/>\n",
       "----------'<b>SEASON4 X EPISODE 8</b>'----------\n",
       "\n",
       "</b>"
      ],
      "text/plain": [
       "<IPython.core.display.Markdown object>"
      ]
     },
     "metadata": {},
     "output_type": "display_data"
    },
    {
     "data": {
      "text/markdown": [
       "<b>Barney:</b> Yes. I know a great American architect who would be perfect. Ted Mosby.<br/>End flashback<br/><b>Barney:</b> All you have to do is come and offer your drawing, I take care of the Board, the project is yours.<br/><b>Ted:</b> You realize what a hero I'd be if I brought this project to my box?<br/><b>Barney:</b> It's not the best. We three, we'll work together.<br/><b>Marshall:</b> Ted will come to call.<br/><b>Barney:</b> Yes, totally.<br/><b>Ted:</b> What is it?<br/><b>Barney: It works like this:</b> one of us goes into the office the other and said...<br/>Flashback<br/>Marshall is in his office with two men. Barney comes to see.<br/><b>Barney:</b> Marshall, the teleconference begins soon.<br/><b>Marshall:</b> Sorry, I gotta go.<br/><b>Barney:</b> And then you go up on the roof... and drink beer.<br/>Barney and Marshall are on the roof.<br/><b>Marshall:</b> It's great. Drinking at work.<br/><b>Barney:</b> Basically, it is of \"Mad Men.\"<br/><b>Marshall:</b> Yes! There is too much \"Mad Men\"!<br/><b>Barney:</b> I'll spank a secretary.<br/><b>Marshall:</b> That's exactly what they would do in this series.<br/><b>Barney:</b> What series?<br/>End flashback"
      ],
      "text/plain": [
       "<IPython.core.display.Markdown object>"
      ]
     },
     "metadata": {},
     "output_type": "display_data"
    },
    {
     "data": {
      "text/markdown": [
       "<b>------------------------------</b>"
      ],
      "text/plain": [
       "<IPython.core.display.Markdown object>"
      ]
     },
     "metadata": {},
     "output_type": "display_data"
    },
    {
     "data": {
      "text/markdown": [
       "<br/>\n",
       "----------'<b>SEASON2 X EPISODE 4</b>'----------\n",
       "\n",
       "</b>"
      ],
      "text/plain": [
       "<IPython.core.display.Markdown object>"
      ]
     },
     "metadata": {},
     "output_type": "display_data"
    },
    {
     "data": {
      "text/markdown": [
       "<b>Bouncer:</b> Thanks, but seriously, it was crazy tonight. You really do need to refresh my memory.<br/><b>Lily:</b> Then can I have the...? That's cool. You keep that.<br/><b>Robin:</b> So these guys... One of them's an architect.<br/><b>Bouncer:</b> Ted Mosby, the architect?<br/><b>Robin:</b> That's the one.<br/><b>Bouncer:</b> Oh, yeah, he was here.<br/>[FLASHBACK]<br/><b>Ted:</b> And then I was all, \"No, Frank Gehry, you're on your own this time.\" And that, my dear, was the end of that hack's career.<br/><b>Girl:</b> I live across the street.<br/><b>Ted:</b> That is one hell of a non sequitur.<br/><b>Girl:</b> You want to come over?<br/><b>Ted:</b> Well, I don't know. But I suppose I should at least give you a ride home. Hop on. (The girl jumps on Ted's back)<br/><b>Girl (to the bouncer):</b> I'll see you at book club, Vinny.<br/><b>Bouncer:</b> Yeah. I'll be bringing the crudités.<br/><b>Girl:</b> Nice. Giddy up!<br/><b>Marshall:</b> Dude, dude, what are you doing?<br/><b>Ted:</b> Galloping.<br/><b>Marshall:</b> You proved it, all right? The whole \"Ted Mosby, architect\" things works.<br/><b>Girl:</b> Architects rule! Whoo-hee!"
      ],
      "text/plain": [
       "<IPython.core.display.Markdown object>"
      ]
     },
     "metadata": {},
     "output_type": "display_data"
    },
    {
     "data": {
      "text/markdown": [
       "<b>------------------------------</b>"
      ],
      "text/plain": [
       "<IPython.core.display.Markdown object>"
      ]
     },
     "metadata": {},
     "output_type": "display_data"
    },
    {
     "data": {
      "text/markdown": [
       "<br/>\n",
       "----------'<b>SEASON2 X EPISODE 4</b>'----------\n",
       "\n",
       "</b>"
      ],
      "text/plain": [
       "<IPython.core.display.Markdown object>"
      ]
     },
     "metadata": {},
     "output_type": "display_data"
    },
    {
     "data": {
      "text/markdown": [
       "<b>Barney:</b> Well, love to join you at that one. But I got tickets to Foxy Boxing.<br/><b>Ted:</b> I wish I could join you guys, but I got to get back to my apparently boring job.<br/><b>Marshall:</b> Your job's not boring.<br/><b>Ted:</b> Robin thinks so.<br/><b>Barney:</b> Dude, lots of chicks think architects are hot. Think about it, you create something out of nothing. You're like God. There's nobody hotter than God.<br/><b>Ted:</b> I love it when you quote Scripture.<br/><b>Barney:</b> I'm telling you, you should use the architect angle with the ladies.<br/><b>Ted:</b> Okay, first of all, I have a girlfriend. Second, the architect angle doesn't even work on her. And, third, I can't imagine that working on anyone ever.<br/><b>Barney:</b> That's 'cause you're always like... (Dully) \"Ted Mosby, architect\". If it were me, I'd be like... (Confidently) \"Ted Mosby, architect\". Anything sounds impressive when it's said with the right attitude."
      ],
      "text/plain": [
       "<IPython.core.display.Markdown object>"
      ]
     },
     "metadata": {},
     "output_type": "display_data"
    },
    {
     "data": {
      "text/markdown": [
       "<b>------------------------------</b>"
      ],
      "text/plain": [
       "<IPython.core.display.Markdown object>"
      ]
     },
     "metadata": {},
     "output_type": "display_data"
    }
   ],
   "source": [
    "# Making Output Human READABLEEEEE\n",
    "for answer in answers:\n",
    "    pgc = answer.page_content\n",
    "    clean_cont = re.sub(r'.+:', lambda x: \"<b>\"+x.group()+\"</b>\", pgc).replace(\"\\n\\n\",\"<br/>\")\n",
    "    s,e = answer.metadata['source'].split('/')[3].split('.')[0].split('x')\n",
    "    d = \"<br/>\"+f\"\\n----------'<b>SEASON{str(int(s))} X EPISODE {str(int(e))}</b>'----------\\n\\n\"+\"</b>\"\n",
    "    display(Markdown(d))\n",
    "    display(Markdown(\"\"+clean_cont+\"\"))\n",
    "    display(Markdown(\"<b>\"+str('-'*(len(d)//2))+\"</b>\"))"
   ]
  }
 ],
 "metadata": {
  "kernelspec": {
   "display_name": "Python 3 (ipykernel)",
   "language": "python",
   "name": "python3"
  },
  "language_info": {
   "codemirror_mode": {
    "name": "ipython",
    "version": 3
   },
   "file_extension": ".py",
   "mimetype": "text/x-python",
   "name": "python",
   "nbconvert_exporter": "python",
   "pygments_lexer": "ipython3",
   "version": "3.11.7"
  }
 },
 "nbformat": 4,
 "nbformat_minor": 5
}
